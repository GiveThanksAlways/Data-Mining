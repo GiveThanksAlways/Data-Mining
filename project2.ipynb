{
 "cells": [
  {
   "cell_type": "code",
   "execution_count": 94,
   "metadata": {},
   "outputs": [],
   "source": [
    "import pandas as pd\n",
    "from sklearn.model_selection import train_test_split\n",
    "from sklearn.metrics import precision_recall_fscore_support"
   ]
  },
  {
   "cell_type": "code",
   "execution_count": 2,
   "metadata": {},
   "outputs": [
    {
     "data": {
      "text/html": [
       "<div>\n",
       "<style scoped>\n",
       "    .dataframe tbody tr th:only-of-type {\n",
       "        vertical-align: middle;\n",
       "    }\n",
       "\n",
       "    .dataframe tbody tr th {\n",
       "        vertical-align: top;\n",
       "    }\n",
       "\n",
       "    .dataframe thead th {\n",
       "        text-align: right;\n",
       "    }\n",
       "</style>\n",
       "<table border=\"1\" class=\"dataframe\">\n",
       "  <thead>\n",
       "    <tr style=\"text-align: right;\">\n",
       "      <th></th>\n",
       "      <th>0</th>\n",
       "      <th>1</th>\n",
       "      <th>2</th>\n",
       "      <th>3</th>\n",
       "      <th>4</th>\n",
       "      <th>eating</th>\n",
       "    </tr>\n",
       "  </thead>\n",
       "  <tbody>\n",
       "    <tr>\n",
       "      <td>0</td>\n",
       "      <td>-102.304742</td>\n",
       "      <td>-12.372565</td>\n",
       "      <td>-34.644204</td>\n",
       "      <td>50.015042</td>\n",
       "      <td>-32.254139</td>\n",
       "      <td>True</td>\n",
       "    </tr>\n",
       "    <tr>\n",
       "      <td>1</td>\n",
       "      <td>-0.300128</td>\n",
       "      <td>-27.901031</td>\n",
       "      <td>56.333862</td>\n",
       "      <td>-39.379301</td>\n",
       "      <td>-33.609012</td>\n",
       "      <td>False</td>\n",
       "    </tr>\n",
       "    <tr>\n",
       "      <td>2</td>\n",
       "      <td>-52.577516</td>\n",
       "      <td>-27.056992</td>\n",
       "      <td>-48.182003</td>\n",
       "      <td>22.093784</td>\n",
       "      <td>-51.514085</td>\n",
       "      <td>True</td>\n",
       "    </tr>\n",
       "    <tr>\n",
       "      <td>3</td>\n",
       "      <td>53.575709</td>\n",
       "      <td>-21.228938</td>\n",
       "      <td>17.985238</td>\n",
       "      <td>-40.431404</td>\n",
       "      <td>-27.784372</td>\n",
       "      <td>False</td>\n",
       "    </tr>\n",
       "    <tr>\n",
       "      <td>4</td>\n",
       "      <td>-121.323946</td>\n",
       "      <td>2.291399</td>\n",
       "      <td>18.295970</td>\n",
       "      <td>5.474396</td>\n",
       "      <td>16.765091</td>\n",
       "      <td>True</td>\n",
       "    </tr>\n",
       "    <tr>\n",
       "      <td>...</td>\n",
       "      <td>...</td>\n",
       "      <td>...</td>\n",
       "      <td>...</td>\n",
       "      <td>...</td>\n",
       "      <td>...</td>\n",
       "      <td>...</td>\n",
       "    </tr>\n",
       "    <tr>\n",
       "      <td>115</td>\n",
       "      <td>-1.422306</td>\n",
       "      <td>-5.208647</td>\n",
       "      <td>-67.556772</td>\n",
       "      <td>-15.107284</td>\n",
       "      <td>-5.511506</td>\n",
       "      <td>False</td>\n",
       "    </tr>\n",
       "    <tr>\n",
       "      <td>116</td>\n",
       "      <td>-10.993742</td>\n",
       "      <td>16.582681</td>\n",
       "      <td>-10.961767</td>\n",
       "      <td>16.044141</td>\n",
       "      <td>-45.217387</td>\n",
       "      <td>True</td>\n",
       "    </tr>\n",
       "    <tr>\n",
       "      <td>117</td>\n",
       "      <td>69.792213</td>\n",
       "      <td>22.460840</td>\n",
       "      <td>19.915777</td>\n",
       "      <td>-6.082213</td>\n",
       "      <td>37.951157</td>\n",
       "      <td>False</td>\n",
       "    </tr>\n",
       "    <tr>\n",
       "      <td>118</td>\n",
       "      <td>-58.173591</td>\n",
       "      <td>35.547185</td>\n",
       "      <td>18.917284</td>\n",
       "      <td>22.436761</td>\n",
       "      <td>-4.835705</td>\n",
       "      <td>True</td>\n",
       "    </tr>\n",
       "    <tr>\n",
       "      <td>119</td>\n",
       "      <td>105.686347</td>\n",
       "      <td>52.967244</td>\n",
       "      <td>-0.929815</td>\n",
       "      <td>-41.773161</td>\n",
       "      <td>14.905060</td>\n",
       "      <td>False</td>\n",
       "    </tr>\n",
       "  </tbody>\n",
       "</table>\n",
       "<p>120 rows × 6 columns</p>\n",
       "</div>"
      ],
      "text/plain": [
       "              0          1          2          3          4  eating\n",
       "0   -102.304742 -12.372565 -34.644204  50.015042 -32.254139    True\n",
       "1     -0.300128 -27.901031  56.333862 -39.379301 -33.609012   False\n",
       "2    -52.577516 -27.056992 -48.182003  22.093784 -51.514085    True\n",
       "3     53.575709 -21.228938  17.985238 -40.431404 -27.784372   False\n",
       "4   -121.323946   2.291399  18.295970   5.474396  16.765091    True\n",
       "..          ...        ...        ...        ...        ...     ...\n",
       "115   -1.422306  -5.208647 -67.556772 -15.107284  -5.511506   False\n",
       "116  -10.993742  16.582681 -10.961767  16.044141 -45.217387    True\n",
       "117   69.792213  22.460840  19.915777  -6.082213  37.951157   False\n",
       "118  -58.173591  35.547185  18.917284  22.436761  -4.835705    True\n",
       "119  105.686347  52.967244  -0.929815 -41.773161  14.905060   False\n",
       "\n",
       "[120 rows x 6 columns]"
      ]
     },
     "execution_count": 2,
     "metadata": {},
     "output_type": "execute_result"
    }
   ],
   "source": [
    "new_feature_space = pd.read_csv('new_feature_space.csv')\n",
    "new_feature_space"
   ]
  },
  {
   "cell_type": "code",
   "execution_count": 114,
   "metadata": {},
   "outputs": [],
   "source": [
    "def print_precision_recall_F1score(precision,recall,F1score):\n",
    "    for i, item in enumerate(('eating class ', 'non eating class ')):\n",
    "        print(item + 'precision =', \"%.2f\" % precision[i])\n",
    "        print(item + 'recall =', \"%.2f\" % recall[i])\n",
    "        print(item + 'F1score =', \"%.2f\" % F1score[i])\n",
    "    "
   ]
  },
  {
   "cell_type": "markdown",
   "metadata": {},
   "source": [
    "# Phase 2"
   ]
  },
  {
   "cell_type": "markdown",
   "metadata": {},
   "source": [
    "## Division of Data"
   ]
  },
  {
   "cell_type": "code",
   "execution_count": 41,
   "metadata": {},
   "outputs": [
    {
     "data": {
      "text/html": [
       "<div>\n",
       "<style scoped>\n",
       "    .dataframe tbody tr th:only-of-type {\n",
       "        vertical-align: middle;\n",
       "    }\n",
       "\n",
       "    .dataframe tbody tr th {\n",
       "        vertical-align: top;\n",
       "    }\n",
       "\n",
       "    .dataframe thead th {\n",
       "        text-align: right;\n",
       "    }\n",
       "</style>\n",
       "<table border=\"1\" class=\"dataframe\">\n",
       "  <thead>\n",
       "    <tr style=\"text-align: right;\">\n",
       "      <th></th>\n",
       "      <th>0</th>\n",
       "      <th>1</th>\n",
       "      <th>2</th>\n",
       "      <th>3</th>\n",
       "      <th>4</th>\n",
       "      <th>eating</th>\n",
       "    </tr>\n",
       "  </thead>\n",
       "  <tbody>\n",
       "    <tr>\n",
       "      <td>0</td>\n",
       "      <td>69.792213</td>\n",
       "      <td>22.460840</td>\n",
       "      <td>19.915777</td>\n",
       "      <td>-6.082213</td>\n",
       "      <td>37.951157</td>\n",
       "      <td>False</td>\n",
       "    </tr>\n",
       "    <tr>\n",
       "      <td>1</td>\n",
       "      <td>-116.975564</td>\n",
       "      <td>29.485279</td>\n",
       "      <td>9.674060</td>\n",
       "      <td>-4.303491</td>\n",
       "      <td>5.793198</td>\n",
       "      <td>True</td>\n",
       "    </tr>\n",
       "    <tr>\n",
       "      <td>2</td>\n",
       "      <td>-81.191863</td>\n",
       "      <td>-1.632601</td>\n",
       "      <td>-40.098781</td>\n",
       "      <td>-67.195381</td>\n",
       "      <td>27.469786</td>\n",
       "      <td>True</td>\n",
       "    </tr>\n",
       "    <tr>\n",
       "      <td>3</td>\n",
       "      <td>-0.300128</td>\n",
       "      <td>-27.901031</td>\n",
       "      <td>56.333862</td>\n",
       "      <td>-39.379301</td>\n",
       "      <td>-33.609012</td>\n",
       "      <td>False</td>\n",
       "    </tr>\n",
       "    <tr>\n",
       "      <td>4</td>\n",
       "      <td>24.067058</td>\n",
       "      <td>-47.832159</td>\n",
       "      <td>11.605379</td>\n",
       "      <td>-73.015105</td>\n",
       "      <td>77.801887</td>\n",
       "      <td>True</td>\n",
       "    </tr>\n",
       "    <tr>\n",
       "      <td>...</td>\n",
       "      <td>...</td>\n",
       "      <td>...</td>\n",
       "      <td>...</td>\n",
       "      <td>...</td>\n",
       "      <td>...</td>\n",
       "      <td>...</td>\n",
       "    </tr>\n",
       "    <tr>\n",
       "      <td>67</td>\n",
       "      <td>-83.372509</td>\n",
       "      <td>-23.856528</td>\n",
       "      <td>-36.011452</td>\n",
       "      <td>10.827844</td>\n",
       "      <td>-58.888054</td>\n",
       "      <td>True</td>\n",
       "    </tr>\n",
       "    <tr>\n",
       "      <td>68</td>\n",
       "      <td>-103.953379</td>\n",
       "      <td>-56.386659</td>\n",
       "      <td>-77.629519</td>\n",
       "      <td>0.266921</td>\n",
       "      <td>-27.126231</td>\n",
       "      <td>True</td>\n",
       "    </tr>\n",
       "    <tr>\n",
       "      <td>69</td>\n",
       "      <td>53.575709</td>\n",
       "      <td>-21.228938</td>\n",
       "      <td>17.985238</td>\n",
       "      <td>-40.431404</td>\n",
       "      <td>-27.784372</td>\n",
       "      <td>False</td>\n",
       "    </tr>\n",
       "    <tr>\n",
       "      <td>70</td>\n",
       "      <td>-102.304742</td>\n",
       "      <td>-12.372565</td>\n",
       "      <td>-34.644204</td>\n",
       "      <td>50.015042</td>\n",
       "      <td>-32.254139</td>\n",
       "      <td>True</td>\n",
       "    </tr>\n",
       "    <tr>\n",
       "      <td>71</td>\n",
       "      <td>205.795473</td>\n",
       "      <td>-27.056386</td>\n",
       "      <td>-31.460909</td>\n",
       "      <td>34.476851</td>\n",
       "      <td>8.603493</td>\n",
       "      <td>False</td>\n",
       "    </tr>\n",
       "  </tbody>\n",
       "</table>\n",
       "<p>72 rows × 6 columns</p>\n",
       "</div>"
      ],
      "text/plain": [
       "             0          1          2          3          4  eating\n",
       "0    69.792213  22.460840  19.915777  -6.082213  37.951157   False\n",
       "1  -116.975564  29.485279   9.674060  -4.303491   5.793198    True\n",
       "2   -81.191863  -1.632601 -40.098781 -67.195381  27.469786    True\n",
       "3    -0.300128 -27.901031  56.333862 -39.379301 -33.609012   False\n",
       "4    24.067058 -47.832159  11.605379 -73.015105  77.801887    True\n",
       "..         ...        ...        ...        ...        ...     ...\n",
       "67  -83.372509 -23.856528 -36.011452  10.827844 -58.888054    True\n",
       "68 -103.953379 -56.386659 -77.629519   0.266921 -27.126231    True\n",
       "69   53.575709 -21.228938  17.985238 -40.431404 -27.784372   False\n",
       "70 -102.304742 -12.372565 -34.644204  50.015042 -32.254139    True\n",
       "71  205.795473 -27.056386 -31.460909  34.476851   8.603493   False\n",
       "\n",
       "[72 rows x 6 columns]"
      ]
     },
     "execution_count": 41,
     "metadata": {},
     "output_type": "execute_result"
    }
   ],
   "source": [
    "train, test = train_test_split(new_feature_space, test_size=0.4)\n",
    "train.reset_index(inplace=True,drop=True)\n",
    "test.reset_index(inplace=True,drop=True)\n",
    "train"
   ]
  },
  {
   "cell_type": "markdown",
   "metadata": {},
   "source": [
    "## 3 machine learning algorithms"
   ]
  },
  {
   "cell_type": "markdown",
   "metadata": {},
   "source": [
    "### Decision Tree"
   ]
  },
  {
   "cell_type": "code",
   "execution_count": 131,
   "metadata": {},
   "outputs": [],
   "source": [
    "from sklearn import tree\n",
    "X = train.iloc[:,:-1] # data \n",
    "Y = train.iloc[:,-1] # class labels\n",
    "clf = tree.DecisionTreeClassifier()\n",
    "clf = clf.fit(X, Y)"
   ]
  },
  {
   "cell_type": "code",
   "execution_count": 132,
   "metadata": {},
   "outputs": [
    {
     "name": "stdout",
     "output_type": "stream",
     "text": [
      "eating class precision = 0.88\n",
      "eating class recall = 0.92\n",
      "eating class F1score = 0.90\n",
      "non eating class precision = 0.91\n",
      "non eating class recall = 0.87\n",
      "non eating class F1score = 0.89\n"
     ]
    }
   ],
   "source": [
    "# precision, recall, F1 score\n",
    "y_pred = clf.predict(test.iloc[:,:-1])\n",
    "y_true = test.iloc[:,-1]\n",
    "precision, recall, F1score, support = precision_recall_fscore_support(y_true, y_pred)\n",
    "print_precision_recall_F1score(precision,recall,F1score)"
   ]
  },
  {
   "cell_type": "markdown",
   "metadata": {},
   "source": [
    "### Support Vector Machine (SVM)"
   ]
  },
  {
   "cell_type": "code",
   "execution_count": 129,
   "metadata": {},
   "outputs": [
    {
     "data": {
      "text/plain": [
       "SVC(C=1.0, cache_size=200, class_weight=None, coef0=0.0,\n",
       "    decision_function_shape='ovr', degree=3, gamma='scale', kernel='rbf',\n",
       "    max_iter=-1, probability=False, random_state=None, shrinking=True,\n",
       "    tol=0.001, verbose=False)"
      ]
     },
     "execution_count": 129,
     "metadata": {},
     "output_type": "execute_result"
    }
   ],
   "source": [
    "from sklearn import svm\n",
    "clf = svm.SVC(gamma='scale') # or gamma='scale'\n",
    "clf.fit(X, Y)"
   ]
  },
  {
   "cell_type": "code",
   "execution_count": 130,
   "metadata": {},
   "outputs": [
    {
     "name": "stdout",
     "output_type": "stream",
     "text": [
      "eating class precision = 0.92\n",
      "eating class recall = 0.96\n",
      "eating class F1score = 0.94\n",
      "non eating class precision = 0.95\n",
      "non eating class recall = 0.91\n",
      "non eating class F1score = 0.93\n"
     ]
    }
   ],
   "source": [
    "# precision, recall, F1 score\n",
    "y_pred = clf.predict(test.iloc[:,:-1])\n",
    "y_true = test.iloc[:,-1]\n",
    "precision, recall, F1score, support = precision_recall_fscore_support(y_true, y_pred)\n",
    "print_precision_recall_F1score(precision,recall,F1score)"
   ]
  },
  {
   "cell_type": "markdown",
   "metadata": {},
   "source": [
    "### Neural Networks"
   ]
  },
  {
   "cell_type": "code",
   "execution_count": 127,
   "metadata": {},
   "outputs": [
    {
     "data": {
      "text/plain": [
       "MLPClassifier(activation='relu', alpha=1e-05, batch_size='auto', beta_1=0.9,\n",
       "              beta_2=0.999, early_stopping=False, epsilon=1e-08,\n",
       "              hidden_layer_sizes=(5, 2), learning_rate='constant',\n",
       "              learning_rate_init=0.001, max_iter=200, momentum=0.9,\n",
       "              n_iter_no_change=10, nesterovs_momentum=True, power_t=0.5,\n",
       "              random_state=1, shuffle=True, solver='lbfgs', tol=0.0001,\n",
       "              validation_fraction=0.1, verbose=False, warm_start=False)"
      ]
     },
     "execution_count": 127,
     "metadata": {},
     "output_type": "execute_result"
    }
   ],
   "source": [
    "# Multi layer perceptron network --- neural network\n",
    "from sklearn.neural_network import MLPClassifier\n",
    "clf = MLPClassifier(solver='lbfgs', alpha=1e-5, hidden_layer_sizes=(5, 2), random_state=1)\n",
    "clf.fit(X, Y)"
   ]
  },
  {
   "cell_type": "code",
   "execution_count": 128,
   "metadata": {},
   "outputs": [
    {
     "name": "stdout",
     "output_type": "stream",
     "text": [
      "eating class precision = 0.95\n",
      "eating class recall = 0.80\n",
      "eating class F1score = 0.87\n",
      "non eating class precision = 0.81\n",
      "non eating class recall = 0.96\n",
      "non eating class F1score = 0.88\n"
     ]
    }
   ],
   "source": [
    "y_pred = clf.predict(test.iloc[:,:-1])\n",
    "y_true = test.iloc[:,-1]\n",
    "precision, recall, F1score, support = precision_recall_fscore_support(y_true, y_pred)\n",
    "print_precision_recall_F1score(precision,recall,F1score)"
   ]
  },
  {
   "cell_type": "code",
   "execution_count": null,
   "metadata": {},
   "outputs": [],
   "source": []
  }
 ],
 "metadata": {
  "kernelspec": {
   "display_name": "Python 3",
   "language": "python",
   "name": "python3"
  },
  "language_info": {
   "codemirror_mode": {
    "name": "ipython",
    "version": 3
   },
   "file_extension": ".py",
   "mimetype": "text/x-python",
   "name": "python",
   "nbconvert_exporter": "python",
   "pygments_lexer": "ipython3",
   "version": "3.7.4"
  }
 },
 "nbformat": 4,
 "nbformat_minor": 4
}
